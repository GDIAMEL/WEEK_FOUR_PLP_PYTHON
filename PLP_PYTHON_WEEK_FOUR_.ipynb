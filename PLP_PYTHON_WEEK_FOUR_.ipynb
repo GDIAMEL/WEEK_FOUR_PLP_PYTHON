{
  "nbformat": 4,
  "nbformat_minor": 0,
  "metadata": {
    "colab": {
      "provenance": [],
      "authorship_tag": "ABX9TyN84jDgzAFfXoPKWkj62hQe",
      "include_colab_link": true
    },
    "kernelspec": {
      "name": "python3",
      "display_name": "Python 3"
    },
    "language_info": {
      "name": "python"
    }
  },
  "cells": [
    {
      "cell_type": "markdown",
      "metadata": {
        "id": "view-in-github",
        "colab_type": "text"
      },
      "source": [
        "<a href=\"https://colab.research.google.com/github/GDIAMEL/WEEK_FOUR_PLP_PYTHON/blob/main/PLP_PYTHON_WEEK_FOUR_.ipynb\" target=\"_parent\"><img src=\"https://colab.research.google.com/assets/colab-badge.svg\" alt=\"Open In Colab\"/></a>"
      ]
    },
    {
      "cell_type": "code",
      "execution_count": 1,
      "metadata": {
        "colab": {
          "base_uri": "https://localhost:8080/"
        },
        "id": "wz0ASIExydNK",
        "outputId": "58d8544a-39dc-44f9-e357-c93e1d1855f8"
      },
      "outputs": [
        {
          "output_type": "stream",
          "name": "stdout",
          "text": [
            "Enter the filename to read: web\n",
            "Error: The file does not exist.\n"
          ]
        }
      ],
      "source": [
        "def modify_content(content):\n",
        "\n",
        "    return content.upper()\n",
        "\n",
        "# Asking the user for the filename\n",
        "filename = input(\"Enter the filename to read: \")\n",
        "\n",
        "try:\n",
        "    # Reading the file\n",
        "    with open(filename, 'r') as file:\n",
        "        content = file.read()\n",
        "\n",
        "    # Modifying the content\n",
        "    modified_content = modify_content(content)\n",
        "\n",
        "    # Writing into a new file\n",
        "    new_filename = \"modified_\" + filename\n",
        "    with open(new_filename, 'w') as file:\n",
        "        file.write(modified_content)\n",
        "\n",
        "    print(f\"Modified content has been saved to {new_filename}\")\n",
        "\n",
        "except FileNotFoundError:\n",
        "    print(\"Error: The file does not exist.\")\n",
        "except IOError:\n",
        "    print(\"Error: The file cannot be read or written.\")\n"
      ]
    }
  ]
}