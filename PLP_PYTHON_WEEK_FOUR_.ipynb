{
  "nbformat": 4,
  "nbformat_minor": 0,
  "metadata": {
    "colab": {
      "provenance": [],
      "authorship_tag": "ABX9TyNzOZ0UrT9jnOR9SMK0SD29",
      "include_colab_link": true
    },
    "kernelspec": {
      "name": "python3",
      "display_name": "Python 3"
    },
    "language_info": {
      "name": "python"
    }
  },
  "cells": [
    {
      "cell_type": "markdown",
      "metadata": {
        "id": "view-in-github",
        "colab_type": "text"
      },
      "source": [
        "<a href=\"https://colab.research.google.com/github/GDIAMEL/WEEK_FOUR_PLP_PYTHON/blob/main/PLP_PYTHON_WEEK_FOUR_.ipynb\" target=\"_parent\"><img src=\"https://colab.research.google.com/assets/colab-badge.svg\" alt=\"Open In Colab\"/></a>"
      ]
    },
    {
      "source": [
        "def modify_content(content):\n",
        "\n",
        "    return content.upper()\n",
        "\n",
        "# Asking the user for the filename\n",
        "filename = input(\"Enter the filename to read: \")\n",
        "\n",
        "try:\n",
        "    # Reading the file with specified encoding\n",
        "    with open(filename, 'r', encoding='latin-1') as file:\n",
        "        content = file.read()\n",
        "\n",
        "    # Modifying the content\n",
        "    modified_content = modify_content(content)\n",
        "\n",
        "    # Writing into a new file with utf-8 encoding\n",
        "    new_filename = \"modified_\" + filename\n",
        "    with open(new_filename, 'w', encoding='utf-8') as file:\n",
        "        file.write(modified_content)\n",
        "\n",
        "    print(f\"Modified content has been saved to {new_filename}\")\n",
        "\n",
        "except FileNotFoundError:\n",
        "    print(\"Error: The file does not exist.\")\n",
        "except IOError:\n",
        "    print(\"Error: The file cannot be read or written.\")"
      ],
      "cell_type": "code",
      "metadata": {
        "id": "1tYB-_hF1Tzy"
      },
      "execution_count": null,
      "outputs": []
    }
  ]
}